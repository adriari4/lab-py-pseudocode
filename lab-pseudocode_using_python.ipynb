{
  "cells": [
    {
      "cell_type": "markdown",
      "metadata": {
        "id": "eGO026YBhiHN"
      },
      "source": [
        "# LAB | Pseudocode Using Python\n",
        "\n",
        "## Overview\n",
        "\n",
        "This exercise will help you practice writing pseudocode and translating it into Python code. Pseudocode is a way to describe algorithms in a human-readable format, which can then be implemented in programming languages.\n",
        "\n"
      ]
    },
    {
      "cell_type": "markdown",
      "metadata": {
        "id": "3cKKa6lThiHR"
      },
      "source": [
        "### Exercise 1: Multiply Two Numbers\n",
        "\n",
        "Write a pseudocode to read two numbers and multiply them together. Then, write the equivalent Python code."
      ]
    },
    {
      "cell_type": "markdown",
      "metadata": {
        "id": "fUDc57pOhiHR"
      },
      "source": [
        "<!-- Add your pseudocode here -->"
      ]
    },
    {
      "cell_type": "code",
      "source": [
        "# Add your code solution here\n",
        "#read (a,b)\n",
        "#multiply = a x b\n",
        "#result (multiply)"
      ],
      "metadata": {
        "id": "I-sVmP10hnlq"
      },
      "execution_count": null,
      "outputs": []
    },
    {
      "cell_type": "code",
      "execution_count": 1,
      "metadata": {
        "colab": {
          "base_uri": "https://localhost:8080/"
        },
        "id": "0MMqapR7hiHS",
        "outputId": "08be6fc4-df91-48eb-bfa3-9b27b30b94a2"
      },
      "outputs": [
        {
          "output_type": "stream",
          "name": "stdout",
          "text": [
            "Enter the first number (a): 3\n",
            "Enter the second number (b): 4\n",
            "Result: 12.0\n"
          ]
        }
      ],
      "source": [
        "# Add your code solution here\n",
        "# Read two numbers from the user\n",
        "a = float(input(\"Enter the first number (a): \"))\n",
        "b = float(input(\"Enter the second number (b): \"))\n",
        "\n",
        "# Multiply the two numbers\n",
        "multiply = a * b\n",
        "\n",
        "# Display the result\n",
        "print(f\"Result: {multiply}\")"
      ]
    },
    {
      "cell_type": "markdown",
      "metadata": {
        "id": "_PLR8XANhiHT"
      },
      "source": [
        "### Exercise 2: Check Even or Odd\n",
        "\n",
        "Write pseudocode that checks if a number is even or odd and prints the result. Then, write the equivalent Python code."
      ]
    },
    {
      "cell_type": "markdown",
      "metadata": {
        "id": "y_OJu5nQhiHU"
      },
      "source": [
        "<!-- Add your pseudocode here -->"
      ]
    },
    {
      "cell_type": "code",
      "source": [
        "# Add your code solution here\n",
        "\n",
        "#a = float(input(\"Enter the first number (a): \"))\n",
        "#a/2\n",
        "#if rest = 0\n",
        "    #then\n",
        "#else\n",
        "#returns odd"
      ],
      "metadata": {
        "id": "axkRRdnvhp6x"
      },
      "execution_count": null,
      "outputs": []
    },
    {
      "cell_type": "code",
      "execution_count": 2,
      "metadata": {
        "colab": {
          "base_uri": "https://localhost:8080/"
        },
        "id": "IlNHTYmUhiHU",
        "outputId": "82a365fb-6102-4adc-8f8e-8a3f1581b96a"
      },
      "outputs": [
        {
          "output_type": "stream",
          "name": "stdout",
          "text": [
            "Enter an integer: 7\n",
            "The number 7 is Odd.\n"
          ]
        }
      ],
      "source": [
        "# Add your code solution here\n",
        "number_str = input(\"Enter an integer: \")\n",
        "\n",
        "try:\n",
        "    number = int(number_str)\n",
        "\n",
        "    # 2. Use the modulo operator (%) to check the remainder when divided by 2\n",
        "    # If the remainder is 0, the number is even.\n",
        "    if number % 2 == 0:\n",
        "        print(f\"The number {number} is Even.\")\n",
        "    # Otherwise, the number is odd.\n",
        "    else:\n",
        "        print(f\"The number {number} is Odd.\")\n",
        "\n",
        "except ValueError:\n",
        "    print(\"Invalid input. Please enter a whole number (integer).\")"
      ]
    },
    {
      "cell_type": "markdown",
      "metadata": {
        "id": "A2L0Qv4phiHU"
      },
      "source": [
        "### Exercise 3: Sum of First N Natural Numbers\n",
        "\n",
        "Write pseudocode to calculate the sum of the first N natural numbers. Then, write the equivalent Python code."
      ]
    },
    {
      "cell_type": "markdown",
      "metadata": {
        "id": "UzMCD15yhiHV"
      },
      "source": [
        "<!-- Add your pseudocode here -->"
      ]
    },
    {
      "cell_type": "markdown",
      "source": [
        "\n",
        "*  list of number = (,)\n",
        "*  sum list of number = a+b+c\n"
      ],
      "metadata": {
        "id": "qtOLsTIsh7Hy"
      }
    },
    {
      "cell_type": "code",
      "execution_count": 4,
      "metadata": {
        "colab": {
          "base_uri": "https://localhost:8080/"
        },
        "id": "r8wZhcxthiHV",
        "outputId": "8a6b1a80-0235-4eb2-97cd-16b34ea43f06"
      },
      "outputs": [
        {
          "output_type": "stream",
          "name": "stdout",
          "text": [
            "Enter an integer: 2\n",
            "Enter an integer: 3\n",
            "Enter an integer: 4\n",
            "Enter an integer: 5\n",
            "14\n"
          ]
        }
      ],
      "source": [
        "# Add your code solution here\n",
        "\n",
        "number = int(input(\"Enter an integer: \"))\n",
        "number2 = int(input(\"Enter an integer: \"))\n",
        "number3 = int(input(\"Enter an integer: \"))\n",
        "number4 = int(input(\"Enter an integer: \"))\n",
        "\n",
        "list_of_numbers = [number, number2, number3, number4]\n",
        "\n",
        "sum_of_numbers = number + number2 + number3 + number4\n",
        "\n",
        "print(sum_of_numbers)"
      ]
    },
    {
      "cell_type": "markdown",
      "metadata": {
        "id": "o7p05IqdhiHV"
      },
      "source": [
        "### Exercise 4: Find Maximum of Three Numbers\n",
        "\n",
        "Write pseudocode that finds the maximum of three numbers entered by the user. Then, write the equivalent Python code."
      ]
    },
    {
      "cell_type": "markdown",
      "metadata": {
        "id": "J8llcvTKhiHV"
      },
      "source": [
        "<!-- Add your pseudocode here -->"
      ]
    },
    {
      "cell_type": "code",
      "source": [
        "# Read three numbers: a, b, c\n",
        "READ a, b, c\n",
        "\n",
        "# Create a list of numbers\n",
        "list_of_numbers = [a, b, c]\n",
        "\n",
        "# Initialize biggest number\n",
        "biggest_number = list_of_numbers[0]\n",
        "\n",
        "# Loop through the list\n",
        "FOR i IN list_of_numbers:\n",
        "    IF i > biggest_number THEN\n",
        "        biggest_number = i\n",
        "    ENDIF\n",
        "ENDFOR\n",
        "\n",
        "# Print the result\n",
        "PRINT \"The biggest number is:\", biggest_number\n"
      ],
      "metadata": {
        "id": "NFcEez-HjMge"
      },
      "execution_count": null,
      "outputs": []
    },
    {
      "cell_type": "code",
      "execution_count": 5,
      "metadata": {
        "colab": {
          "base_uri": "https://localhost:8080/"
        },
        "id": "nzz5TwishiHW",
        "outputId": "08ea9b22-4618-404c-fe3d-d6efc111580d"
      },
      "outputs": [
        {
          "output_type": "stream",
          "name": "stdout",
          "text": [
            "Enter first number: 3\n",
            "Enter second number: 16\n",
            "Enter third number: 254\n",
            "The biggest number is: 254\n"
          ]
        }
      ],
      "source": [
        "# Add your code solution here\n",
        "# Read three numbers\n",
        "a = int(input(\"Enter first number: \"))\n",
        "b = int(input(\"Enter second number: \"))\n",
        "c = int(input(\"Enter third number: \"))\n",
        "\n",
        "# Create a list with the numbers\n",
        "list_of_numbers = [a, b, c]\n",
        "\n",
        "# Initialize biggest number with the first element\n",
        "biggest_number = list_of_numbers[0]\n",
        "\n",
        "# Loop through the list to find the biggest number\n",
        "for i in list_of_numbers:\n",
        "    if i > biggest_number:\n",
        "        biggest_number = i\n",
        "\n",
        "# Print the result\n",
        "print(\"The biggest number is:\", biggest_number)"
      ]
    },
    {
      "cell_type": "markdown",
      "metadata": {
        "id": "_RitpYH3hiHW"
      },
      "source": [
        "### Exercise 5: Count Vowels in a String\n",
        "\n",
        "Write pseudocode to count the number of vowels in a given string and print the count. Then, write the equivalent Python code."
      ]
    },
    {
      "cell_type": "markdown",
      "metadata": {
        "id": "GZEm1GHDhiHW"
      },
      "source": [
        "<!-- Add your pseudocode here -->"
      ]
    },
    {
      "cell_type": "code",
      "execution_count": null,
      "metadata": {
        "id": "WHeK9LWwhiHW"
      },
      "outputs": [],
      "source": [
        "from re import A\n",
        "# Add your code solution here\n",
        "# COUNT VOWEL IN A STRING\n",
        "VOWELS = A O E I U\n",
        "\n",
        "A = 0\n",
        "O = 0\n",
        "E = 0\n",
        "I = 0\n",
        "U = 0\n",
        "\n",
        "# Initialize biggest number\n",
        "GIVEN STRING = \"..\"\n",
        "\n",
        "# Loop through the list\n",
        "FOR i IN GIVEN STRING:\n",
        "    IF i == A THEN\n",
        "        A = 0\n",
        "    elif i == B THEN\n",
        "        B = 0\n",
        "    elif i == E THEN\n",
        "        E = 0\n",
        "    elif i == I THEN\n",
        "        I = 0\n",
        "    elif i == U THEN\n",
        "        U = 0\n",
        "    ENDIF\n",
        "ENDFOR\n",
        "\n",
        "# Print the result\n",
        "PRINT \"The biggest number is:\", biggest_number\n"
      ]
    },
    {
      "cell_type": "code",
      "source": [
        "# Ask the user for a string\n",
        "text = input(\"Enter a text: \")\n",
        "\n",
        "# Initialize counter\n",
        "vowel_count = 0\n",
        "\n",
        "# Define vowels\n",
        "vowels = \"aeiouAEIOU\"\n",
        "\n",
        "# Loop through each character\n",
        "for char in text:\n",
        "    if char in vowels:\n",
        "        vowel_count += 1\n",
        "\n",
        "# Print the result\n",
        "print(\"The number of vowels is:\", vowel_count)"
      ],
      "metadata": {
        "colab": {
          "base_uri": "https://localhost:8080/"
        },
        "id": "HLk2JHLol8-f",
        "outputId": "a692a46d-c59b-48f1-8c4d-16b6371446de"
      },
      "execution_count": 6,
      "outputs": [
        {
          "output_type": "stream",
          "name": "stdout",
          "text": [
            "Enter a text: HOLA SOY ADRIAN\n",
            "The number of vowels is: 6\n"
          ]
        }
      ]
    },
    {
      "cell_type": "markdown",
      "metadata": {
        "id": "MbspkNJohiHW"
      },
      "source": [
        "## Bonus Exercises\n",
        "\n",
        "### Bonus Exercise 6: Reverse a String\n",
        "\n",
        "Write pseudocode to reverse a given string and print it out."
      ]
    },
    {
      "cell_type": "markdown",
      "metadata": {
        "id": "TI56xClShiHX"
      },
      "source": [
        "<!-- Add your pseudocode here -->"
      ]
    },
    {
      "cell_type": "code",
      "source": [
        "# Read a string from the user\n",
        "READ text\n",
        "\n",
        "# Initialize an empty string to store the reversed version\n",
        "reversed_text = \"\"\n",
        "\n",
        "# Loop through the original string backwards\n",
        "FOR each character in text starting from the last to the first\n",
        "    reversed_text = reversed_text + character\n",
        "ENDFOR\n",
        "\n",
        "# Print the reversed string\n",
        "PRINT \"The reversed string is:\", reversed_text\n"
      ],
      "metadata": {
        "colab": {
          "base_uri": "https://localhost:8080/",
          "height": 106
        },
        "id": "QQrdhtvpnBzI",
        "outputId": "bc8e3ab9-b97d-4fee-ec09-a9b705c829d7"
      },
      "execution_count": 7,
      "outputs": [
        {
          "output_type": "error",
          "ename": "SyntaxError",
          "evalue": "invalid syntax (ipython-input-691178900.py, line 2)",
          "traceback": [
            "\u001b[0;36m  File \u001b[0;32m\"/tmp/ipython-input-691178900.py\"\u001b[0;36m, line \u001b[0;32m2\u001b[0m\n\u001b[0;31m    READ text\u001b[0m\n\u001b[0m         ^\u001b[0m\n\u001b[0;31mSyntaxError\u001b[0m\u001b[0;31m:\u001b[0m invalid syntax\n"
          ]
        }
      ]
    },
    {
      "cell_type": "code",
      "execution_count": 8,
      "metadata": {
        "colab": {
          "base_uri": "https://localhost:8080/"
        },
        "id": "PVfAtEEHhiHX",
        "outputId": "8db80d20-493c-4d16-8394-60041058a7a2"
      },
      "outputs": [
        {
          "output_type": "stream",
          "name": "stdout",
          "text": [
            "Enter a string: HOLA SOY ADRIAN\n",
            "The reversed string is: NAIRDA YOS ALOH\n"
          ]
        }
      ],
      "source": [
        "# Add your code solution here\n",
        "\n",
        "# Ask the user for a string\n",
        "text = input(\"Enter a string: \")\n",
        "\n",
        "# Initialize an empty string\n",
        "reversed_text = \"\"\n",
        "\n",
        "# Loop through the string backwards\n",
        "for char in text[::-1]:\n",
        "    reversed_text += char\n",
        "\n",
        "# Print the reversed string\n",
        "print(\"The reversed string is:\", reversed_text)"
      ]
    },
    {
      "cell_type": "markdown",
      "metadata": {
        "id": "vGiHFjw6hiHX"
      },
      "source": [
        "### Bonus Exercise 7: Print Multiplication Table of a Number\n",
        "\n",
        "Write pseudocode to print the multiplication table of a given number up to 10."
      ]
    },
    {
      "cell_type": "markdown",
      "metadata": {
        "id": "Ch9uQbg2hiHX"
      },
      "source": [
        "<!-- Add your pseudocode here -->"
      ]
    },
    {
      "cell_type": "code",
      "execution_count": null,
      "metadata": {
        "id": "kvB3VY3dhiHX"
      },
      "outputs": [],
      "source": [
        "# ASK FOR THE INTEGER\n",
        "READ number\n",
        "\n",
        "# Print a header\n",
        "PRINT \"Multiplication table of\", number\n",
        "\n",
        "# Loop from 1 to 10\n",
        "FOR i FROM 1 TO 10 DO\n",
        "    result = number * i\n",
        "    PRINT number, \"x\", i, \"=\", result\n",
        "ENDFOR\n"
      ]
    },
    {
      "cell_type": "code",
      "source": [
        "# Ask the user for a number\n",
        "number = int(input(\"Enter a number: \"))\n",
        "\n",
        "# Print a header\n",
        "print(\"Multiplication table of\", number)\n",
        "\n",
        "# Loop from 1 to 10\n",
        "for i in range(1, 11):\n",
        "    result = number * i\n",
        "    print(number, \"x\", i, \"=\", result)"
      ],
      "metadata": {
        "colab": {
          "base_uri": "https://localhost:8080/"
        },
        "id": "6UnOHQbko9ND",
        "outputId": "c94df861-c344-4e3b-a989-773bc3aac57d"
      },
      "execution_count": 10,
      "outputs": [
        {
          "output_type": "stream",
          "name": "stdout",
          "text": [
            "Enter a number: 9\n",
            "Multiplication table of 9\n",
            "9 x 1 = 9\n",
            "9 x 2 = 18\n",
            "9 x 3 = 27\n",
            "9 x 4 = 36\n",
            "9 x 5 = 45\n",
            "9 x 6 = 54\n",
            "9 x 7 = 63\n",
            "9 x 8 = 72\n",
            "9 x 9 = 81\n",
            "9 x 10 = 90\n"
          ]
        }
      ]
    },
    {
      "cell_type": "markdown",
      "metadata": {
        "id": "97fPqInfhiHY"
      },
      "source": [
        "### Bonus Exercise 8: Count Words in a String\n",
        "\n",
        "Write pseudocode that counts the words in a given string and prints the result."
      ]
    },
    {
      "cell_type": "markdown",
      "metadata": {
        "id": "a4zZggMehiHY"
      },
      "source": [
        "<!-- Add your pseudocode here -->"
      ]
    },
    {
      "cell_type": "code",
      "source": [
        "# Ask the user for a sentence\n",
        "READ sentence\n",
        "\n",
        "# Initialize the counter\n",
        "COUNT = 1        # starts at 1 because the last word has no space after it\n",
        "\n",
        "# Loop through each character in the sentence\n",
        "FOR each character IN sentence\n",
        "    IF character == \" \" THEN\n",
        "        COUNT = COUNT + 1\n",
        "    ENDIF\n",
        "ENDFOR\n",
        "\n",
        "# Print the result\n",
        "PRINT \"The number of words is:\", COUNT\n"
      ],
      "metadata": {
        "id": "EDErNDVGpG-y"
      },
      "execution_count": null,
      "outputs": []
    },
    {
      "cell_type": "code",
      "execution_count": 11,
      "metadata": {
        "colab": {
          "base_uri": "https://localhost:8080/"
        },
        "id": "YUNti7FuhiHY",
        "outputId": "5a0578c2-08d9-4adf-9996-062238ed38c3"
      },
      "outputs": [
        {
          "output_type": "stream",
          "name": "stdout",
          "text": [
            "Enter a sentence: QUE TAL SOY PEPITO\n",
            "The number of words is: 4\n"
          ]
        }
      ],
      "source": [
        "\n",
        "# Ask the user for a sentence\n",
        "sentence = input(\"Enter a sentence: \")\n",
        "\n",
        "# Initialize the counter\n",
        "count = 1  # start at 1 because the first word comes before any space\n",
        "\n",
        "# Loop through each character in the sentence\n",
        "for char in sentence:\n",
        "    if char == \" \":\n",
        "        count += 1\n",
        "\n",
        "# Print the result\n",
        "print(\"The number of words is:\", count)"
      ]
    },
    {
      "cell_type": "markdown",
      "metadata": {
        "id": "J_Mlh0uxhiHY"
      },
      "source": [
        "### Bonus Exercise 9: Find Factorial of a Number\n",
        "\n",
        "Write pseudocode that calculates the factorial of a given positive integer."
      ]
    },
    {
      "cell_type": "markdown",
      "metadata": {
        "id": "kWnM5UtWhiHY"
      },
      "source": [
        "<!-- Add your pseudocode here -->"
      ]
    },
    {
      "cell_type": "code",
      "source": [
        "#ASK FOR THE NUMBER\n",
        "READ number\n",
        "\n",
        "\n",
        "# Loop from i to 1\n",
        "FOR i FROM to 1\n",
        "    result = i x (i-1)\n",
        "    PRINT factorial number, \"x\", i, \"=\", result\n",
        "ENDFOR\n"
      ],
      "metadata": {
        "id": "JbHkTeHWsWmV"
      },
      "execution_count": null,
      "outputs": []
    },
    {
      "cell_type": "code",
      "execution_count": 13,
      "metadata": {
        "colab": {
          "base_uri": "https://localhost:8080/"
        },
        "id": "xntE1IEdhiHZ",
        "outputId": "b990e736-08af-452f-a078-45c90149df5f"
      },
      "outputs": [
        {
          "output_type": "stream",
          "name": "stdout",
          "text": [
            "Enter a number: 101\n",
            "The factorial of 101 is: 9425947759838359420851623124482936749562312794702543768327889353416977599316221476503087861591808346911623490003549599583369706302603264000000000000000000000000\n"
          ]
        }
      ],
      "source": [
        "# Add your code solution here\n",
        "\n",
        "# Ask the user for a number\n",
        "number = int(input(\"Enter a number: \"))\n",
        "\n",
        "# Initialize result\n",
        "factorial = 1\n",
        "\n",
        "# Loop from 1 to the given number\n",
        "for i in range(1, number + 1):\n",
        "    factorial *= i   # same as factorial = factorial * i\n",
        "\n",
        "# Print the result\n",
        "print(\"The factorial of\", number, \"is:\", factorial)"
      ]
    },
    {
      "cell_type": "markdown",
      "metadata": {
        "id": "cYTm1dz3hiHZ"
      },
      "source": [
        "### Bonus Exercise 10: FizzBuzz Problem\n",
        "\n",
        "Write pseudocode for the FizzBuzz problem where you print numbers from 1 to N but replace multiples of three with \"Fizz\" and multiples of five with \"Buzz\"."
      ]
    },
    {
      "cell_type": "markdown",
      "metadata": {
        "id": "C81EzKCPhiHZ"
      },
      "source": [
        "<!-- Add your pseudocode here -->"
      ]
    },
    {
      "cell_type": "code",
      "source": [
        "# Ask the user for a number\n",
        "READ number\n",
        "\n",
        "# Loop from 1 to the given number\n",
        "FOR i FROM 1 TO number DO\n",
        "\n",
        "    IF i divisible by 3 AND i divisible by 5 THEN\n",
        "        PRINT \"FizzBuzz\"\n",
        "\n",
        "    ELSE IF i divisible by 3 THEN\n",
        "        PRINT \"Fizz\"\n",
        "\n",
        "    ELSE IF i divisible by 5 THEN\n",
        "        PRINT \"Buzz\"\n",
        "\n",
        "    ELSE\n",
        "        PRINT i\n",
        "    ENDIF\n",
        "\n",
        "ENDFOR\n"
      ],
      "metadata": {
        "id": "lrN28Zretv9p"
      },
      "execution_count": null,
      "outputs": []
    },
    {
      "cell_type": "code",
      "execution_count": 14,
      "metadata": {
        "colab": {
          "base_uri": "https://localhost:8080/"
        },
        "id": "cBgaKa_phiHZ",
        "outputId": "ad73a422-8105-4466-be95-d79357989325"
      },
      "outputs": [
        {
          "output_type": "stream",
          "name": "stdout",
          "text": [
            "Enter a number: 15\n",
            "1\n",
            "2\n",
            "Fizz\n",
            "4\n",
            "Buzz\n",
            "Fizz\n",
            "7\n",
            "8\n",
            "Fizz\n",
            "Buzz\n",
            "11\n",
            "Fizz\n",
            "13\n",
            "14\n",
            "FizzBuzz\n"
          ]
        }
      ],
      "source": [
        "\n",
        "# Ask the user for a number\n",
        "number = int(input(\"Enter a number: \"))\n",
        "\n",
        "# Loop from 1 to the given number\n",
        "for i in range(1, number + 1):\n",
        "\n",
        "    if i % 3 == 0 and i % 5 == 0:\n",
        "        print(\"FizzBuzz\")\n",
        "\n",
        "    elif i % 3 == 0:\n",
        "        print(\"Fizz\")\n",
        "\n",
        "    elif i % 5 == 0:\n",
        "        print(\"Buzz\")\n",
        "\n",
        "    else:\n",
        "        print(i)\n"
      ]
    }
  ],
  "metadata": {
    "kernelspec": {
      "display_name": ".venv",
      "language": "python",
      "name": "python3"
    },
    "language_info": {
      "codemirror_mode": {
        "name": "ipython",
        "version": 3
      },
      "file_extension": ".py",
      "mimetype": "text/x-python",
      "name": "python",
      "nbconvert_exporter": "python",
      "pygments_lexer": "ipython3",
      "version": "3.8.0"
    },
    "colab": {
      "provenance": []
    }
  },
  "nbformat": 4,
  "nbformat_minor": 0
}